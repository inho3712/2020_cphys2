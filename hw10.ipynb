{
 "cells": [
  {
   "cell_type": "markdown",
   "metadata": {},
   "source": [
    "과제\n",
    "imdb 데이터를 가지고 RNN을 통해 구현해보기\n",
    "\n",
    "- RNN은 Sequence data(순차적 데이터) / Language data(자연어) 처리하는 데에 이용하는 데에 특화됨"
   ]
  },
  {
   "cell_type": "markdown",
   "metadata": {},
   "source": [
    "# IMDB Datasets"
   ]
  },
  {
   "cell_type": "code",
   "execution_count": 12,
   "metadata": {},
   "outputs": [],
   "source": [
    "import numpy as np\n",
    "from tensorflow import keras\n",
    "from keras import models \n",
    "from keras import layers\n",
    "import matplotlib.pyplot as plt\n",
    "\n",
    "from keras.datasets import imdb\n",
    "# https://www.imdb.com/\n",
    "(X, y_train), (X_test, y_test) = imdb.load_data(num_words=10000)"
   ]
  },
  {
   "cell_type": "code",
   "execution_count": 13,
   "metadata": {},
   "outputs": [],
   "source": [
    "# text to vector\n",
    "def vect(seq, dim=10000):\n",
    "    x=np.zeros((len(seq),dim))\n",
    "    for n, i in enumerate(seq):\n",
    "        x[n, i] = 1\n",
    "    return x\n",
    "\n",
    "X_train=vect(X)\n",
    "X_test=vect(X_test)"
   ]
  },
  {
   "cell_type": "code",
   "execution_count": 14,
   "metadata": {},
   "outputs": [
    {
     "data": {
      "text/plain": [
       "array([0., 1., 1., ..., 0., 0., 0.])"
      ]
     },
     "execution_count": 14,
     "metadata": {},
     "output_type": "execute_result"
    }
   ],
   "source": [
    "X_train[0]"
   ]
  },
  {
   "cell_type": "code",
   "execution_count": 15,
   "metadata": {},
   "outputs": [
    {
     "name": "stdout",
     "output_type": "stream",
     "text": [
      "Epoch 1/5\n",
      "118/118 [==============================] - 8s 72ms/step - loss: 0.5724 - acc: 0.7050 - val_loss: 0.3815 - val_acc: 0.8712\n",
      "Epoch 2/5\n",
      "118/118 [==============================] - 2s 19ms/step - loss: 0.3738 - acc: 0.8575 - val_loss: 0.2850 - val_acc: 0.8852\n",
      "Epoch 3/5\n",
      "118/118 [==============================] - 2s 16ms/step - loss: 0.2775 - acc: 0.9029 - val_loss: 0.2757 - val_acc: 0.8858\n",
      "Epoch 4/5\n",
      "118/118 [==============================] - 2s 14ms/step - loss: 0.2213 - acc: 0.9208 - val_loss: 0.2879 - val_acc: 0.8877\n",
      "Epoch 5/5\n",
      "118/118 [==============================] - 2s 14ms/step - loss: 0.1961 - acc: 0.9329 - val_loss: 0.3067 - val_acc: 0.8864\n"
     ]
    }
   ],
   "source": [
    "net = models.Sequential()\n",
    "net.add(layers.Dense(16, activation='relu', input_shape=(10000,)))\n",
    "net.add(layers.Dropout(0.5))\n",
    "net.add(layers.Dense(16, activation='relu'))\n",
    "net.add(layers.Dropout(0.5))\n",
    "net.add(layers.Dense(1, activation='sigmoid'))\n",
    "net.compile(optimizer='nadam', loss='binary_crossentropy', metrics = ['acc'])\n",
    "\n",
    "X_val = X_train[:10000]\n",
    "partial_X_train = X_train[10000:]\n",
    "\n",
    "y_val = y_train[:10000]\n",
    "partial_y_train = y_train[10000:]\n",
    "\n",
    "val = net.fit(partial_X_train, partial_y_train, epochs=5, batch_size=128, validation_data=(X_val, y_val))"
   ]
  },
  {
   "cell_type": "code",
   "execution_count": 16,
   "metadata": {},
   "outputs": [
    {
     "data": {
      "text/plain": [
       "[<matplotlib.lines.Line2D at 0x28b501e6108>]"
      ]
     },
     "execution_count": 16,
     "metadata": {},
     "output_type": "execute_result"
    },
    {
     "data": {
      "image/png": "[encoded data removed]",
      "text/plain": [
       "<Figure size 432x288 with 1 Axes>"
      ]
     },
     "metadata": {
      "needs_background": "light"
     },
     "output_type": "display_data"
    }
   ],
   "source": [
    "val_dict = val.history\n",
    "loss = val_dict['loss']\n",
    "val_loss = val_dict['val_loss']\n",
    "x = np.arange(0,len(loss))\n",
    "\n",
    "plt.plot(x,loss,'-')\n",
    "plt.plot(x,val_loss,'o')"
   ]
  },
  {
   "cell_type": "code",
   "execution_count": 17,
   "metadata": {},
   "outputs": [
    {
     "name": "stdout",
     "output_type": "stream",
     "text": [
      "782/782 [==============================] - 4s 5ms/step - loss: 0.3224 - acc: 0.8780\n"
     ]
    }
   ],
   "source": [
    "test_loss, test_acc = net.evaluate(X_test,y_test)"
   ]
  },
  {
   "cell_type": "markdown",
   "metadata": {},
   "source": [
    " # IMDB Classification using simple RNN"
   ]
  },
  {
   "cell_type": "code",
   "execution_count": 35,
   "metadata": {},
   "outputs": [],
   "source": [
    "from keras.preprocessing import sequence\n",
    "\n",
    "max_words=10000 \n",
    "(X_train, y_train), (X_test, y_test) = imdb.load_data(num_words=max_words)\n",
    "\n",
    "maxlen = 100 # sequence length(리뷰들의 단어 수를 일정하게 만드는 과정)\n",
    "X_train = sequence.pad_sequences(X_train, maxlen=maxlen)\n",
    "X_test = sequence.pad_sequences(X_test, maxlen=maxlen)"
   ]
  },
  {
   "cell_type": "code",
   "execution_count": 36,
   "metadata": {},
   "outputs": [
    {
     "data": {
      "text/plain": [
       "array([1415,   33,    6,   22,   12,  215,   28,   77,   52,    5,   14,\n",
       "        407,   16,   82,    2,    8,    4,  107,  117, 5952,   15,  256,\n",
       "          4,    2,    7, 3766,    5,  723,   36,   71,   43,  530,  476,\n",
       "         26,  400,  317,   46,    7,    4,    2, 1029,   13,  104,   88,\n",
       "          4,  381,   15,  297,   98,   32, 2071,   56,   26,  141,    6,\n",
       "        194, 7486,   18,    4,  226,   22,   21,  134,  476,   26,  480,\n",
       "          5,  144,   30, 5535,   18,   51,   36,   28,  224,   92,   25,\n",
       "        104,    4,  226,   65,   16,   38, 1334,   88,   12,   16,  283,\n",
       "          5,   16, 4472,  113,  103,   32,   15,   16, 5345,   19,  178,\n",
       "         32])"
      ]
     },
     "execution_count": 36,
     "metadata": {},
     "output_type": "execute_result"
    }
   ],
   "source": [
    "X_train[0]"
   ]
  },
  {
   "cell_type": "code",
   "execution_count": 37,
   "metadata": {},
   "outputs": [
    {
     "data": {
      "text/plain": [
       "(25000, 100)"
      ]
     },
     "execution_count": 37,
     "metadata": {},
     "output_type": "execute_result"
    }
   ],
   "source": [
    "X_train.shape"
   ]
  },
  {
   "cell_type": "code",
   "execution_count": 41,
   "metadata": {},
   "outputs": [],
   "source": [
    "rnn = models.Sequential()\n",
    "rnn.add(layers.Embedding(max_words, 16)) # 긴 시퀀스를 rnn에서 다룰 수 있는 데이터를 바꾸어주는 과정\n",
    "# 각각의 단어를 n=16 차원 공간에 올리기\n",
    "rnn.add(layers.SimpleRNN(32,return_sequences='True')) # 다층 RNN를 하기 위해 return_sequences = True로 설정\n",
    "rnn.add(layers.Dropout(0.2))\n",
    "rnn.add(layers.SimpleRNN(16))\n",
    "rnn.add(layers.Dropout(0.2))\n",
    "rnn.add(layers.Dense(1, activation='sigmoid'))\n",
    "rnn.compile(optimizer='nadam',loss='binary_crossentropy',metrics=['acc'])"
   ]
  },
  {
   "cell_type": "code",
   "execution_count": 42,
   "metadata": {},
   "outputs": [
    {
     "name": "stdout",
     "output_type": "stream",
     "text": [
      "Model: \"sequential_10\"\n",
      "_________________________________________________________________\n",
      "Layer (type)                 Output Shape              Param #   \n",
      "=================================================================\n",
      "embedding_8 (Embedding)      (None, None, 16)          160000    \n",
      "_________________________________________________________________\n",
      "simple_rnn_19 (SimpleRNN)    (None, None, 32)          1568      \n",
      "_________________________________________________________________\n",
      "dropout_18 (Dropout)         (None, None, 32)          0         \n",
      "_________________________________________________________________\n",
      "simple_rnn_20 (SimpleRNN)    (None, 16)                784       \n",
      "_________________________________________________________________\n",
      "dropout_19 (Dropout)         (None, 16)                0         \n",
      "_________________________________________________________________\n",
      "dense_12 (Dense)             (None, 1)                 17        \n",
      "=================================================================\n",
      "Total params: 162,369\n",
      "Trainable params: 162,369\n",
      "Non-trainable params: 0\n",
      "_________________________________________________________________\n"
     ]
    }
   ],
   "source": [
    "rnn.summary()"
   ]
  },
  {
   "cell_type": "code",
   "execution_count": 43,
   "metadata": {},
   "outputs": [
    {
     "name": "stdout",
     "output_type": "stream",
     "text": [
      "Epoch 1/10\n",
      "157/157 [==============================] - 13s 80ms/step - loss: 0.6965 - acc: 0.5306 - val_loss: 0.6612 - val_acc: 0.6088\n",
      "Epoch 2/10\n",
      "157/157 [==============================] - 12s 77ms/step - loss: 0.5064 - acc: 0.7589 - val_loss: 0.7553 - val_acc: 0.6502\n",
      "Epoch 3/10\n",
      "157/157 [==============================] - 12s 77ms/step - loss: 0.3594 - acc: 0.8511 - val_loss: 0.5385 - val_acc: 0.7970\n",
      "Epoch 4/10\n",
      "157/157 [==============================] - 12s 76ms/step - loss: 0.2669 - acc: 0.9006 - val_loss: 0.4148 - val_acc: 0.8206\n",
      "Epoch 5/10\n",
      "157/157 [==============================] - 12s 76ms/step - loss: 0.1921 - acc: 0.9336 - val_loss: 0.5341 - val_acc: 0.7892\n",
      "Epoch 6/10\n",
      "157/157 [==============================] - 12s 76ms/step - loss: 0.1285 - acc: 0.9583 - val_loss: 0.5189 - val_acc: 0.8252\n",
      "Epoch 7/10\n",
      "157/157 [==============================] - 12s 79ms/step - loss: 0.0783 - acc: 0.9772 - val_loss: 0.6523 - val_acc: 0.8186\n",
      "Epoch 8/10\n",
      "157/157 [==============================] - 12s 79ms/step - loss: 0.0473 - acc: 0.9870 - val_loss: 0.6797 - val_acc: 0.8176\n",
      "Epoch 9/10\n",
      "157/157 [==============================] - 12s 76ms/step - loss: 0.0394 - acc: 0.9890 - val_loss: 0.7450 - val_acc: 0.8046\n",
      "Epoch 10/10\n",
      "157/157 [==============================] - 12s 77ms/step - loss: 0.0379 - acc: 0.9880 - val_loss: 0.9958 - val_acc: 0.7482\n"
     ]
    }
   ],
   "source": [
    "history = rnn.fit(X_train, y_train, epochs=10, batch_size=128, validation_split=0.2)"
   ]
  },
  {
   "cell_type": "code",
   "execution_count": 49,
   "metadata": {},
   "outputs": [
    {
     "name": "stdout",
     "output_type": "stream",
     "text": [
      "782/782 [==============================] - 12s 15ms/step - loss: 0.9482 - acc: 0.7517 2s - loss:  - ETA\n"
     ]
    },
    {
     "data": {
      "text/plain": [
       "0.9481979012489319"
      ]
     },
     "execution_count": 49,
     "metadata": {},
     "output_type": "execute_result"
    }
   ],
   "source": [
    "rnn.evaluate(X_test, y_test)[0] # test set의 정확도"
   ]
  }
 ],
 "metadata": {
  "kernelspec": {
   "display_name": "Python 3",
   "language": "python",
   "name": "python3"
  },
  "language_info": {
   "codemirror_mode": {
    "name": "ipython",
    "version": 3
   },
   "file_extension": ".py",
   "mimetype": "text/x-python",
   "name": "python",
   "nbconvert_exporter": "python",
   "pygments_lexer": "ipython3",
   "version": "3.7.6"
  }
 },
 "nbformat": 4,
 "nbformat_minor": 4
}
