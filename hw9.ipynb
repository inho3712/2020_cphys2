{
 "cells": [
  {
   "cell_type": "markdown",
   "metadata": {},
   "source": [
    "# Fashion MNIST"
   ]
  },
  {
   "cell_type": "markdown",
   "metadata": {},
   "source": [
    "## MNIST 패션 이미지를 CNN을 이용하여 분류하세요. CNN을 이용한 분류 결과를 MLP와 비교해보세요."
   ]
  },
  {
   "cell_type": "code",
   "execution_count": 1,
   "metadata": {},
   "outputs": [],
   "source": [
    "from tensorflow import keras\n",
    "from keras import models \n",
    "from keras import layers\n",
    "import numpy as np\n",
    "import matplotlib.pyplot as plt\n",
    "from keras.utils import to_categorical\n",
    "from keras.datasets import fashion_mnist"
   ]
  },
  {
   "cell_type": "markdown",
   "metadata": {},
   "source": [
    "### Multi-Layer Perceptron (MLP)"
   ]
  },
  {
   "cell_type": "code",
   "execution_count": 2,
   "metadata": {},
   "outputs": [],
   "source": [
    "(X_train, y_train), (X_test, y_test) = fashion_mnist.load_data()\n",
    "y_train=to_categorical(y_train)\n",
    "y_test=to_categorical(y_test)\n",
    "\n",
    "# preprocessing\n",
    "X_train = X_train.reshape((60000, 28*28))\n",
    "X_train = X_train/255\n",
    "\n",
    "X_test = X_test.reshape((10000, 28*28))\n",
    "X_test = X_test/255\n",
    "\n",
    "net = models.Sequential()\n",
    "net.add(layers.Dense(512, activation='relu', input_shape=(28*28,))) \n",
    "net.add(layers.Dense(512, activation='relu')) \n",
    "net.add(layers.Dropout(0.5))\n",
    "net.add(layers.Dense(512, activation='relu')) \n",
    "net.add(layers.Dropout(0.5))\n",
    "net.add(layers.Dense(10, activation='softmax')) \n",
    "net.compile(optimizer='nadam',loss='categorical_crossentropy',metrics=['acc'])"
   ]
  },
  {
   "cell_type": "code",
   "execution_count": 3,
   "metadata": {},
   "outputs": [],
   "source": [
    "X_val = X_train[:10000]\n",
    "partial_X_train = X_train[10000:]\n",
    "\n",
    "y_val = y_train[:10000]\n",
    "partial_y_train = y_train[10000:]"
   ]
  },
  {
   "cell_type": "code",
   "execution_count": 4,
   "metadata": {},
   "outputs": [
    {
     "name": "stdout",
     "output_type": "stream",
     "text": [
      "Epoch 1/10\n",
      "782/782 [==============================] - 30s 38ms/step - loss: 0.5615 - acc: 0.7983 - val_loss: 0.4285 - val_acc: 0.8507\n",
      "Epoch 2/10\n",
      "782/782 [==============================] - 28s 36ms/step - loss: 0.3984 - acc: 0.8571 - val_loss: 0.4046 - val_acc: 0.8564\n",
      "Epoch 3/10\n",
      "782/782 [==============================] - 28s 36ms/step - loss: 0.3567 - acc: 0.8701 - val_loss: 0.4087 - val_acc: 0.8521\n",
      "Epoch 4/10\n",
      "782/782 [==============================] - 28s 36ms/step - loss: 0.3304 - acc: 0.8805 - val_loss: 0.3344 - val_acc: 0.8804\n",
      "Epoch 5/10\n",
      "782/782 [==============================] - 28s 36ms/step - loss: 0.3123 - acc: 0.8867 - val_loss: 0.3765 - val_acc: 0.8626\n",
      "Epoch 6/10\n",
      "782/782 [==============================] - 28s 36ms/step - loss: 0.3012 - acc: 0.8909 - val_loss: 0.3169 - val_acc: 0.8843\n",
      "Epoch 7/10\n",
      "782/782 [==============================] - 28s 36ms/step - loss: 0.2906 - acc: 0.8923 - val_loss: 0.3215 - val_acc: 0.8785\n",
      "Epoch 8/10\n",
      "782/782 [==============================] - 28s 36ms/step - loss: 0.2777 - acc: 0.8977 - val_loss: 0.3472 - val_acc: 0.8776\n",
      "Epoch 9/10\n",
      "782/782 [==============================] - 28s 36ms/step - loss: 0.2662 - acc: 0.9008 - val_loss: 0.3048 - val_acc: 0.8917\n",
      "Epoch 10/10\n",
      "782/782 [==============================] - 30s 39ms/step - loss: 0.2582 - acc: 0.9055 - val_loss: 0.3507 - val_acc: 0.8775\n"
     ]
    }
   ],
   "source": [
    "val= net.fit(partial_X_train,partial_y_train,epochs=10, batch_size=64, validation_data=(X_val, y_val))"
   ]
  },
  {
   "cell_type": "code",
   "execution_count": 5,
   "metadata": {},
   "outputs": [
    {
     "name": "stdout",
     "output_type": "stream",
     "text": [
      "313/313 [==============================] - 2s 6ms/step - loss: 0.3732 - acc: 0.8729\n"
     ]
    }
   ],
   "source": [
    "test_loss, test_acc = net.evaluate(X_test,y_test)"
   ]
  },
  {
   "cell_type": "markdown",
   "metadata": {},
   "source": [
    "# CNN"
   ]
  },
  {
   "cell_type": "code",
   "execution_count": 11,
   "metadata": {},
   "outputs": [],
   "source": [
    "(X_train, y_train), (X_test, y_test) = fashion_mnist.load_data()\n",
    "\n",
    "# preprocessing\n",
    "X_train = X_train.reshape((60000, 28, 28, 1))\n",
    "X_train = X_train/255\n",
    "\n",
    "X_test = X_test.reshape((10000, 28, 28, 1))\n",
    "X_test = X_test/255\n",
    "\n",
    "y_train=to_categorical(y_train)\n",
    "y_test=to_categorical(y_test)"
   ]
  },
  {
   "cell_type": "code",
   "execution_count": 12,
   "metadata": {},
   "outputs": [],
   "source": [
    "net = models.Sequential()\n",
    "\n",
    "net.add(layers.Conv2D(32,(3,3), activation='relu', input_shape=(28,28,1)))\n",
    "net.add(layers.MaxPooling2D((2,2)))\n",
    "net.add(layers.Conv2D(64,(3,3), activation='relu')) \n",
    "net.add(layers.MaxPooling2D((2,2)))\n",
    "net.add(layers.Conv2D(64,(3,3), activation='relu'))\n",
    "\n",
    "net.add(layers.Flatten())\n",
    "\n",
    "net.add(layers.Dense(64, activation='relu')) \n",
    "net.add(layers.Dense(10, activation='softmax')) \n",
    "\n",
    "net.compile(optimizer='nadam',loss='categorical_crossentropy',metrics=['acc'])"
   ]
  },
  {
   "cell_type": "code",
   "execution_count": 13,
   "metadata": {},
   "outputs": [
    {
     "name": "stdout",
     "output_type": "stream",
     "text": [
      "Model: \"sequential_2\"\n",
      "_________________________________________________________________\n",
      "Layer (type)                 Output Shape              Param #   \n",
      "=================================================================\n",
      "conv2d_3 (Conv2D)            (None, 26, 26, 32)        320       \n",
      "_________________________________________________________________\n",
      "max_pooling2d_2 (MaxPooling2 (None, 13, 13, 32)        0         \n",
      "_________________________________________________________________\n",
      "conv2d_4 (Conv2D)            (None, 11, 11, 64)        18496     \n",
      "_________________________________________________________________\n",
      "max_pooling2d_3 (MaxPooling2 (None, 5, 5, 64)          0         \n",
      "_________________________________________________________________\n",
      "conv2d_5 (Conv2D)            (None, 3, 3, 64)          36928     \n",
      "_________________________________________________________________\n",
      "flatten_1 (Flatten)          (None, 576)               0         \n",
      "_________________________________________________________________\n",
      "dense_6 (Dense)              (None, 64)                36928     \n",
      "_________________________________________________________________\n",
      "dense_7 (Dense)              (None, 10)                650       \n",
      "=================================================================\n",
      "Total params: 93,322\n",
      "Trainable params: 93,322\n",
      "Non-trainable params: 0\n",
      "_________________________________________________________________\n"
     ]
    }
   ],
   "source": [
    "net.summary()"
   ]
  },
  {
   "cell_type": "code",
   "execution_count": 14,
   "metadata": {},
   "outputs": [
    {
     "name": "stdout",
     "output_type": "stream",
     "text": [
      "Epoch 1/5\n",
      "938/938 [==============================] - 57s 61ms/step - loss: 0.5300 - acc: 0.8041\n",
      "Epoch 2/5\n",
      "938/938 [==============================] - 56s 60ms/step - loss: 0.3319 - acc: 0.8793\n",
      "Epoch 3/5\n",
      "938/938 [==============================] - 63s 67ms/step - loss: 0.2837 - acc: 0.8965\n",
      "Epoch 4/5\n",
      "938/938 [==============================] - 75s 80ms/step - loss: 0.2544 - acc: 0.9080\n",
      "Epoch 5/5\n",
      "938/938 [==============================] - 69s 74ms/step - loss: 0.2311 - acc: 0.9162\n"
     ]
    },
    {
     "data": {
      "text/plain": [
       "<tensorflow.python.keras.callbacks.History at 0x20b504e8988>"
      ]
     },
     "execution_count": 14,
     "metadata": {},
     "output_type": "execute_result"
    }
   ],
   "source": [
    "net.fit(X_train, y_train, epochs=5, batch_size=64)"
   ]
  },
  {
   "cell_type": "code",
   "execution_count": 15,
   "metadata": {},
   "outputs": [
    {
     "name": "stdout",
     "output_type": "stream",
     "text": [
      "313/313 [==============================] - 3s 11ms/step - loss: 0.2762 - acc: 0.9005\n"
     ]
    }
   ],
   "source": [
    "test_loss, test_acc = net.evaluate(X_test,y_test)"
   ]
  },
  {
   "cell_type": "markdown",
   "metadata": {},
   "source": [
    "## MLP 결과 : 0.8729의 정확도\n",
    "## CNN 결과 : 0.9005의 정확도\n",
    "\n",
    " 이미지 인식에 있어서 MLP는 모든 입력이 위치와 상관없이 동일한 수준의 중요도를 갖고, 이를 이용해 neural network를 구성하면 파라미터의 크기가 엄청나게 커지는 문제가 생긴다. 이 문제를 해결하기 위해 만들어진 것이 CNN이다.\n",
    " CNN은 max-pooling 방식의 sub-sampling 과정을 거치는데, 이 과정에서 각각 가장 큰 자극을 선택한다. 이 과정이 데이터의 특징과 패턴을 파악하는 것이고, 이미지를 분류하는 데 있어 이미지 전체에 대한 특징을 얻어내기 때문에 인식능력이 좋아진다. \n",
    " 따라서 결과를 비교해 보았을 때 CNN으로 분류한다면 성능이 높아지는 것을 볼 수 있다."
   ]
  }
 ],
 "metadata": {
  "kernelspec": {
   "display_name": "Python 3",
   "language": "python",
   "name": "python3"
  },
  "language_info": {
   "codemirror_mode": {
    "name": "ipython",
    "version": 3
   },
   "file_extension": ".py",
   "mimetype": "text/x-python",
   "name": "python",
   "nbconvert_exporter": "python",
   "pygments_lexer": "ipython3",
   "version": "3.7.6"
  }
 },
 "nbformat": 4,
 "nbformat_minor": 4
}
